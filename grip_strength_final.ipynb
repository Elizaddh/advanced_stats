{
 "cells": [
  {
   "cell_type": "markdown",
   "id": "4b8d694a",
   "metadata": {},
   "source": [
    "## DATA PREPARATION AND CLEANING"
   ]
  },
  {
   "cell_type": "code",
   "execution_count": 2,
   "id": "2a40650b",
   "metadata": {},
   "outputs": [
    {
     "data": {
      "text/html": [
       "<style>.container { width:100% !important; }</style>"
      ],
      "text/plain": [
       "<IPython.core.display.HTML object>"
      ]
     },
     "metadata": {},
     "output_type": "display_data"
    }
   ],
   "source": [
    "from IPython.display import display, HTML\n",
    "display(HTML(\"<style>.container { width:100% !important; }</style>\"))\n",
    "\n",
    "from IPython.core.interactiveshell import InteractiveShell\n",
    "InteractiveShell.ast_node_interactivity = \"all\""
   ]
  },
  {
   "cell_type": "code",
   "execution_count": 3,
   "id": "7d3267fc",
   "metadata": {},
   "outputs": [
    {
     "data": {
      "text/plain": [
       "(442519, 7)"
      ]
     },
     "execution_count": 3,
     "metadata": {},
     "output_type": "execute_result"
    }
   ],
   "source": [
    "#importing only important varibles\n",
    "import os\n",
    "import pandas as pd\n",
    "pd.options.mode.chained_assignment =  'warn'\n",
    "os.chdir(\"/Users/edhungel/Documents/Research/UNCC/ukbiobank/eliza/raw_data\")\n",
    "metadata = pd.read_csv(\"ukb50043.csv\", usecols = [\"eid\",\"46-0.0\", \"47-0.0\", \"816-0.0\",  \"6150-0.0\", \"21000-0.0\",  \"22001-0.0\" ])\n",
    "metadata.columns = [\"eid\", \"grip_strength_left\", \"grip_strength_right\",\"job_category\",  \"vascular_problem_category\",  \"Ethnicity\",\"genetic_sex\"]\n",
    "\n",
    "#working on british population ony\n",
    "\n",
    "metadata = metadata[metadata[\"Ethnicity\"]==1001.0] ##British\n",
    "metadata.shape\n",
    "\n"
   ]
  },
  {
   "cell_type": "code",
   "execution_count": 36,
   "id": "fa119fa5",
   "metadata": {},
   "outputs": [
    {
     "data": {
      "text/plain": [
       "<matplotlib.collections.PathCollection at 0x7fbf3874db50>"
      ]
     },
     "execution_count": 36,
     "metadata": {},
     "output_type": "execute_result"
    },
    {
     "data": {
      "text/plain": [
       "Text(3, 3226, '3216')"
      ]
     },
     "execution_count": 36,
     "metadata": {},
     "output_type": "execute_result"
    },
    {
     "data": {
      "text/plain": [
       "Text(4, 2367, '2357')"
      ]
     },
     "execution_count": 36,
     "metadata": {},
     "output_type": "execute_result"
    },
    {
     "data": {
      "text/plain": [
       "Text(5, 2324, '2314')"
      ]
     },
     "execution_count": 36,
     "metadata": {},
     "output_type": "execute_result"
    },
    {
     "data": {
      "text/plain": [
       "Text(6, 2321, '2311')"
      ]
     },
     "execution_count": 36,
     "metadata": {},
     "output_type": "execute_result"
    },
    {
     "data": {
      "text/plain": [
       "Text(7, 2321, '2311')"
      ]
     },
     "execution_count": 36,
     "metadata": {},
     "output_type": "execute_result"
    },
    {
     "data": {
      "text/plain": [
       "Text(8, 2321, '2311')"
      ]
     },
     "execution_count": 36,
     "metadata": {},
     "output_type": "execute_result"
    },
    {
     "data": {
      "text/plain": [
       "Text(9, 2321, '2311')"
      ]
     },
     "execution_count": 36,
     "metadata": {},
     "output_type": "execute_result"
    },
    {
     "data": {
      "image/png": "[encoded data removed]",
      "text/plain": [
       "<Figure size 640x480 with 1 Axes>"
      ]
     },
     "metadata": {},
     "output_type": "display_data"
    }
   ],
   "source": [
    "#Outlier detection\n",
    "#mean-3*(sigma) or above mean+3*(sigma) \n",
    "import numpy as np\n",
    "mean=np.mean(metadata[\"grip_strength_right\"])\n",
    "sigma=np.std(metadata[\"grip_strength_right\"])\n",
    "\n",
    "falsevaluecount=[]\n",
    "for val in range(3,10):\n",
    "    lowerlimit=mean-val*(sigma)\n",
    "    upperlimit=mean+val*(sigma) \n",
    "    falsevaluecount.append(((metadata[\"grip_strength_right\"] > lowerlimit) & (metadata[\"grip_strength_right\"] < upperlimit)).value_counts()[0]) #False vlaue count\n",
    "import matplotlib.pyplot as plt\n",
    "plt.scatter(y=falsevaluecount, x=list(range(3,10)))\n",
    "for i, txt in enumerate(falsevaluecount):\n",
    "    plt.text(list(range(3,10))[i], falsevaluecount[i]+10, str(txt), ha='right', va='bottom')\n",
    "    "
   ]
  },
  {
   "cell_type": "code",
   "execution_count": 38,
   "id": "184d86cf",
   "metadata": {},
   "outputs": [
    {
     "data": {
      "text/plain": [
       "(442519, 7)"
      ]
     },
     "execution_count": 38,
     "metadata": {},
     "output_type": "execute_result"
    },
    {
     "data": {
      "text/plain": [
       "(249033, 7)"
      ]
     },
     "execution_count": 38,
     "metadata": {},
     "output_type": "execute_result"
    },
    {
     "data": {
      "text/plain": [
       "193486"
      ]
     },
     "execution_count": 38,
     "metadata": {},
     "output_type": "execute_result"
    }
   ],
   "source": [
    "#Cleaning the data\n",
    "metadata_clean=metadata.loc[(metadata[\"job_category\"] > 0) & \n",
    "                            (metadata[\"grip_strength_right\"].notna())  &\n",
    "                            (metadata[\"vascular_problem_category\"] != -3 )          & \n",
    "                            (metadata[\"grip_strength_right\"] > (mean-6*(sigma)) )  &\n",
    "                            (metadata[\"grip_strength_right\"] <  (mean+6*(sigma)))  ,: ]\n",
    "metadata.shape\n",
    "\n",
    "metadata_clean.shape\n",
    "\n",
    "442519-249033"
   ]
  },
  {
   "cell_type": "code",
   "execution_count": 39,
   "id": "23c776c0",
   "metadata": {},
   "outputs": [
    {
     "data": {
      "text/plain": [
       "0.0    125230\n",
       "1.0    117666\n",
       "Name: genetic_sex, dtype: int64"
      ]
     },
     "execution_count": 39,
     "metadata": {},
     "output_type": "execute_result"
    },
    {
     "data": {
      "text/plain": [
       "0.5028650821377086"
      ]
     },
     "execution_count": 39,
     "metadata": {},
     "output_type": "execute_result"
    }
   ],
   "source": [
    "(metadata_clean[\"genetic_sex\"]).value_counts()\n",
    "125230/249033"
   ]
  },
  {
   "cell_type": "code",
   "execution_count": 27,
   "id": "732f5b4a",
   "metadata": {},
   "outputs": [],
   "source": [
    "\n",
    "summary_table = metadata_clean.groupby([\"genetic_sex\", \"job_category\", \"vascular_problem_category\"]).agg(\n",
    "    sample_size=pd.NamedAgg(column=\"grip_strength_right\", aggfunc=\"size\"),  \n",
    "    mean_grip_strength=pd.NamedAgg(column=\"grip_strength_right\", aggfunc=\"mean\"),\n",
    "    median_grip_strength=pd.NamedAgg(column=\"grip_strength_right\", aggfunc=\"median\"),\n",
    "    std_grip_strength=pd.NamedAgg(column=\"grip_strength_right\", aggfunc=\"std\")\n",
    ").reset_index()\n",
    "\n",
    "summary_table.to_csv(\"/Users/edhungel/Documents/PhD_UNCC/spring_2024/advanced_stats/hand_grip_strength/summar_stats.txt\")"
   ]
  },
  {
   "cell_type": "markdown",
   "id": "a2ac595f",
   "metadata": {},
   "source": [
    "## TWO WAY ANOVA TO SEE IF THERE IS DIFFERENCE IN MEAN OF THE GRIP STRENGTH BETWEEN MALE AND FEMALE AND THOSE WHO REPORT DIFFERENT LEVEL OF MANUAL WORK\n",
    "\n",
    "**ASSUMPTIONS**\n",
    "\n",
    "- Normality : meets based on central limit theorem\n",
    "- independence : meets based on the design of expriment\n",
    "- homogenity of variance : anova is robust till the variance ratio is 4"
   ]
  },
  {
   "cell_type": "code",
   "execution_count": 7,
   "id": "64532455",
   "metadata": {},
   "outputs": [],
   "source": [
    "#Lets arrange the data for analysis\n",
    "dict_of_male_data={}\n",
    "dict_of_female_data={}\n",
    "for val in range(1,5):\n",
    "        female_data = metadata_clean.loc[metadata_clean[\"genetic_sex\"]==0.0,]\n",
    "        dict_of_female_data[val] = female_data[female_data[\"job_category\"]== val]\n",
    "        male_data = metadata_clean.loc[metadata_clean[\"genetic_sex\"]==1.0,]\n",
    "        dict_of_male_data[val] = male_data[male_data[\"job_category\"]== val]\n",
    "    "
   ]
  },
  {
   "cell_type": "code",
   "execution_count": 8,
   "id": "72bd340b",
   "metadata": {},
   "outputs": [
    {
     "data": {
      "text/plain": [
       "LeveneResult(statistic=1660.0727413670454, pvalue=0.0)"
      ]
     },
     "execution_count": 8,
     "metadata": {},
     "output_type": "execute_result"
    }
   ],
   "source": [
    "#levene test for equality of variance\n",
    "#NULL null hypothesis that all input samples are from populations with equal variances.\n",
    "from scipy.stats import levene\n",
    "levene(dict_of_male_data[1][\"grip_strength_right\"],dict_of_male_data[2][\"grip_strength_right\"],dict_of_male_data[3][\"grip_strength_right\"],dict_of_male_data[4][\"grip_strength_right\"],\n",
    "      dict_of_female_data[1][\"grip_strength_right\"],dict_of_female_data[2][\"grip_strength_right\"],dict_of_female_data[3][\"grip_strength_right\"],dict_of_female_data[4][\"grip_strength_right\"])\n",
    "\n",
    "\n"
   ]
  },
  {
   "cell_type": "code",
   "execution_count": 9,
   "id": "f2edd817",
   "metadata": {},
   "outputs": [
    {
     "name": "stdout",
     "output_type": "stream",
     "text": [
      "0\n",
      "7\n"
     ]
    }
   ],
   "source": [
    "import statistics as stats\n",
    "from itertools import chain\n",
    "list_to_find_varaince= [dict_of_male_data[1][\"grip_strength_right\"],dict_of_male_data[2][\"grip_strength_right\"],dict_of_male_data[3][\"grip_strength_right\"],dict_of_male_data[4][\"grip_strength_right\"],\n",
    "      dict_of_female_data[1][\"grip_strength_right\"],dict_of_female_data[2][\"grip_strength_right\"],dict_of_female_data[3][\"grip_strength_right\"],dict_of_female_data[4][\"grip_strength_right\"]]\n",
    "\n",
    "varlist = []\n",
    "for var in list_to_find_varaince:\n",
    "    varlist.append(stats.variance(var))\n",
    "\n",
    "\n",
    "varainceratio = []\n",
    "for idx,val in enumerate(varlist):\n",
    "    varainceratio.append([ var /varlist[idx] for var in varlist])\n",
    "flattened_list = list(chain(*varainceratio))\n",
    "\n",
    "\n",
    "count_VarRatioMorethan4= 0\n",
    "for val in flattened_list:\n",
    "    if val >= 4:\n",
    "        count_VarRatioMorethan4=count_VarRatioMorethan4+1\n",
    "print(count_VarRatioMorethan4)\n",
    "\n",
    "count_VarRatioMorethan2= 0\n",
    "for val in flattened_list:\n",
    "    if val >= 2:\n",
    "        count_VarRatioMorethan2=count_VarRatioMorethan2+1\n",
    "print(count_VarRatioMorethan2)\n"
   ]
  },
  {
   "cell_type": "markdown",
   "id": "94d94d95",
   "metadata": {},
   "source": [
    "**7 variance ratio is greater than 2, but none are greater than 4**\n",
    "\n",
    "As anova is robust till the variance is more than 4, the assumption of equality of variance will not effect the analysis much."
   ]
  },
  {
   "cell_type": "code",
   "execution_count": 10,
   "id": "0ffb236c",
   "metadata": {},
   "outputs": [],
   "source": [
    "#Lets decode the data so that factor level are string rather than numeric\n",
    "d_sex = {\n",
    "        0.0 : \"female\", \n",
    "        1.0 : \"male\" \n",
    "        }\n",
    "d_job_category = {\n",
    "    1.0: \"Never/rarely\",\n",
    "    2.0:\"Sometimes\",\n",
    "    3.0:\"Usually\",\n",
    "    4.0:\"Always\"    \n",
    "}\n",
    "d_vascular_problem_category = {\n",
    "    1.0: \"Heart attack\",\n",
    "    2.0: \"Angina\",\n",
    "    3.0:\"Stroke\",\n",
    "    4.0:\"High blood pressure\",\n",
    "    -7.0 : \"None of the above\"\n",
    "}"
   ]
  },
  {
   "cell_type": "code",
   "execution_count": 11,
   "id": "42482f35",
   "metadata": {},
   "outputs": [],
   "source": [
    "#DO NOT RUN MORE THAN ONCE\n",
    "import pandas as pd\n",
    "pd.options.mode.chained_assignment =  None\n",
    "# Example DataFrame\n",
    "\n",
    "metadata_clean['genetic_sex'] = metadata_clean['genetic_sex'].map(d_sex)\n",
    "metadata_clean['job_category'] = metadata_clean['job_category'].map(d_job_category)\n",
    "metadata_clean['vascular_problem_category'] = metadata_clean['vascular_problem_category'].map(d_vascular_problem_category)\n",
    "\n"
   ]
  },
  {
   "cell_type": "code",
   "execution_count": 12,
   "id": "d8949d48",
   "metadata": {},
   "outputs": [
    {
     "data": {
      "text/html": [
       "<div>\n",
       "<style scoped>\n",
       "    .dataframe tbody tr th:only-of-type {\n",
       "        vertical-align: middle;\n",
       "    }\n",
       "\n",
       "    .dataframe tbody tr th {\n",
       "        vertical-align: top;\n",
       "    }\n",
       "\n",
       "    .dataframe thead th {\n",
       "        text-align: right;\n",
       "    }\n",
       "</style>\n",
       "<table border=\"1\" class=\"dataframe\">\n",
       "  <thead>\n",
       "    <tr style=\"text-align: right;\">\n",
       "      <th></th>\n",
       "      <th>sum_sq</th>\n",
       "      <th>df</th>\n",
       "      <th>F</th>\n",
       "      <th>PR(&gt;F)</th>\n",
       "    </tr>\n",
       "  </thead>\n",
       "  <tbody>\n",
       "    <tr>\n",
       "      <th>C(job_category)</th>\n",
       "      <td>5.332529e+03</td>\n",
       "      <td>3.0</td>\n",
       "      <td>29.718373</td>\n",
       "      <td>3.353442e-19</td>\n",
       "    </tr>\n",
       "    <tr>\n",
       "      <th>C(genetic_sex)</th>\n",
       "      <td>1.610953e+07</td>\n",
       "      <td>1.0</td>\n",
       "      <td>269336.929271</td>\n",
       "      <td>0.000000e+00</td>\n",
       "    </tr>\n",
       "    <tr>\n",
       "      <th>C(job_category):C(genetic_sex)</th>\n",
       "      <td>4.888555e+03</td>\n",
       "      <td>3.0</td>\n",
       "      <td>27.244088</td>\n",
       "      <td>1.313210e-17</td>\n",
       "    </tr>\n",
       "    <tr>\n",
       "      <th>Residual</th>\n",
       "      <td>1.452757e+07</td>\n",
       "      <td>242888.0</td>\n",
       "      <td>NaN</td>\n",
       "      <td>NaN</td>\n",
       "    </tr>\n",
       "  </tbody>\n",
       "</table>\n",
       "</div>"
      ],
      "text/plain": [
       "                                      sum_sq        df              F  \\\n",
       "C(job_category)                 5.332529e+03       3.0      29.718373   \n",
       "C(genetic_sex)                  1.610953e+07       1.0  269336.929271   \n",
       "C(job_category):C(genetic_sex)  4.888555e+03       3.0      27.244088   \n",
       "Residual                        1.452757e+07  242888.0            NaN   \n",
       "\n",
       "                                      PR(>F)  \n",
       "C(job_category)                 3.353442e-19  \n",
       "C(genetic_sex)                  0.000000e+00  \n",
       "C(job_category):C(genetic_sex)  1.313210e-17  \n",
       "Residual                                 NaN  "
      ]
     },
     "execution_count": 12,
     "metadata": {},
     "output_type": "execute_result"
    }
   ],
   "source": [
    "import numpy as np \n",
    "import pandas as pd \n",
    "import statsmodels.api as sm \n",
    "from statsmodels.formula.api import ols \n",
    "\n",
    "model = ols('grip_strength_right~ C(job_category) + C(genetic_sex) + C(job_category):C(genetic_sex)', data = metadata_clean).fit()\n",
    "anova_res=sm.stats.anova_lm(model, typ=2)\n",
    "\n",
    "anova_res\n"
   ]
  },
  {
   "cell_type": "code",
   "execution_count": 13,
   "id": "04c8f998",
   "metadata": {},
   "outputs": [
    {
     "data": {
      "text/plain": [
       "[42.1458424895442,\n",
       " 42.73633392192959,\n",
       " 42.665227403569375,\n",
       " 42.02536662703131,\n",
       " 25.91991273123949,\n",
       " 25.863379496975487,\n",
       " 25.835326438267614,\n",
       " 25.43062605752961]"
      ]
     },
     "execution_count": 13,
     "metadata": {},
     "output_type": "execute_result"
    }
   ],
   "source": [
    "#[male_1_4, female_1_4]\n",
    "meanitems = []\n",
    "for items in list_to_find_varaince:\n",
    "    meanitems.append(np.mean(items))\n",
    "meanitems\n"
   ]
  },
  {
   "cell_type": "code",
   "execution_count": 14,
   "id": "4b3ed184",
   "metadata": {
    "scrolled": true
   },
   "outputs": [
    {
     "data": {
      "text/plain": [
       "<AxesSubplot:xlabel='job_category', ylabel='grip_strength_right'>"
      ]
     },
     "execution_count": 14,
     "metadata": {},
     "output_type": "execute_result"
    },
    {
     "data": {
      "image/png": "[encoded data removed]",
      "text/plain": [
       "<Figure size 640x480 with 1 Axes>"
      ]
     },
     "metadata": {},
     "output_type": "display_data"
    }
   ],
   "source": [
    "import seaborn as sns\n",
    "sns.set(style='whitegrid')\n",
    "sns.boxplot(y= metadata_clean[\"grip_strength_right\"], x = metadata_clean[\"job_category\"], hue= metadata_clean[\"genetic_sex\"])"
   ]
  },
  {
   "cell_type": "code",
   "execution_count": 15,
   "id": "c17c0bee",
   "metadata": {
    "scrolled": true
   },
   "outputs": [
    {
     "data": {
      "image/png": "[encoded data removed]",
      "text/plain": [
       "<Figure size 640x480 with 1 Axes>"
      ]
     },
     "metadata": {},
     "output_type": "display_data"
    }
   ],
   "source": [
    "res = model.resid \n",
    "fig = sm.qqplot(res)#, stats.t)#, fit=True, line=\"45\")\n",
    "plt.show()"
   ]
  },
  {
   "cell_type": "code",
   "execution_count": 32,
   "id": "e9eaf7e5",
   "metadata": {},
   "outputs": [
    {
     "name": "stdout",
     "output_type": "stream",
     "text": [
      "Tukey's HSD Pairwise Group Comparisons (95.0% Confidence Interval)\n",
      "Comparison  Statistic  p-value  Lower CI  Upper CI\n",
      " (0 - 1)     -0.590     0.000    -0.759    -0.422\n",
      " (0 - 2)     -0.519     0.000    -0.765    -0.273\n",
      " (0 - 3)      0.120     0.827    -0.129     0.370\n",
      " (0 - 4)     16.226     0.000    16.107    16.344\n",
      " (0 - 5)     16.282     0.000    16.110    16.455\n",
      " (0 - 6)     16.311     0.000    16.000    16.621\n",
      " (0 - 7)     16.715     0.000    16.398    17.033\n",
      " (1 - 0)      0.590     0.000     0.422     0.759\n",
      " (1 - 2)      0.071     0.993    -0.200     0.342\n",
      " (1 - 3)      0.711     0.000     0.437     0.985\n",
      " (1 - 4)     16.816     0.000    16.652    16.980\n",
      " (1 - 5)     16.873     0.000    16.667    17.079\n",
      " (1 - 6)     16.901     0.000    16.570    17.232\n",
      " (1 - 7)     17.306     0.000    16.969    17.643\n",
      " (2 - 0)      0.519     0.000     0.273     0.765\n",
      " (2 - 1)     -0.071     0.993    -0.342     0.200\n",
      " (2 - 3)      0.640     0.000     0.313     0.967\n",
      " (2 - 4)     16.745     0.000    16.502    16.988\n",
      " (2 - 5)     16.802     0.000    16.529    17.075\n",
      " (2 - 6)     16.830     0.000    16.454    17.206\n",
      " (2 - 7)     17.235     0.000    16.853    17.616\n",
      " (3 - 0)     -0.120     0.827    -0.370     0.129\n",
      " (3 - 1)     -0.711     0.000    -0.985    -0.437\n",
      " (3 - 2)     -0.640     0.000    -0.967    -0.313\n",
      " (3 - 4)     16.105     0.000    15.859    16.352\n",
      " (3 - 5)     16.162     0.000    15.886    16.438\n",
      " (3 - 6)     16.190     0.000    15.812    16.569\n",
      " (3 - 7)     16.595     0.000    16.211    16.979\n",
      " (4 - 0)    -16.226     0.000   -16.344   -16.107\n",
      " (4 - 1)    -16.816     0.000   -16.980   -16.652\n",
      " (4 - 2)    -16.745     0.000   -16.988   -16.502\n",
      " (4 - 3)    -16.105     0.000   -16.352   -15.859\n",
      " (4 - 5)      0.057     0.971    -0.111     0.224\n",
      " (4 - 6)      0.085     0.991    -0.224     0.393\n",
      " (4 - 7)      0.489     0.000     0.174     0.804\n",
      " (5 - 0)    -16.282     0.000   -16.455   -16.110\n",
      " (5 - 1)    -16.873     0.000   -17.079   -16.667\n",
      " (5 - 2)    -16.802     0.000   -17.075   -16.529\n",
      " (5 - 3)    -16.162     0.000   -16.438   -15.886\n",
      " (5 - 4)     -0.057     0.971    -0.224     0.111\n",
      " (5 - 6)      0.028     1.000    -0.305     0.361\n",
      " (5 - 7)      0.433     0.003     0.094     0.772\n",
      " (6 - 0)    -16.311     0.000   -16.621   -16.000\n",
      " (6 - 1)    -16.901     0.000   -17.232   -16.570\n",
      " (6 - 2)    -16.830     0.000   -17.206   -16.454\n",
      " (6 - 3)    -16.190     0.000   -16.569   -15.812\n",
      " (6 - 4)     -0.085     0.991    -0.393     0.224\n",
      " (6 - 5)     -0.028     1.000    -0.361     0.305\n",
      " (6 - 7)      0.405     0.077    -0.022     0.831\n",
      " (7 - 0)    -16.715     0.000   -17.033   -16.398\n",
      " (7 - 1)    -17.306     0.000   -17.643   -16.969\n",
      " (7 - 2)    -17.235     0.000   -17.616   -16.853\n",
      " (7 - 3)    -16.595     0.000   -16.979   -16.211\n",
      " (7 - 4)     -0.489     0.000    -0.804    -0.174\n",
      " (7 - 5)     -0.433     0.003    -0.772    -0.094\n",
      " (7 - 6)     -0.405     0.077    -0.831     0.022\n",
      "\n"
     ]
    }
   ],
   "source": [
    "from scipy.stats import tukey_hsd\n",
    "\n",
    "p_values_pergroup_fe =tukey_hsd(dict_of_male_data[1][\"grip_strength_right\"],dict_of_male_data[2][\"grip_strength_right\"],dict_of_male_data[3][\"grip_strength_right\"],dict_of_male_data[4][\"grip_strength_right\"],\n",
    "      dict_of_female_data[1][\"grip_strength_right\"],dict_of_female_data[2][\"grip_strength_right\"],dict_of_female_data[3][\"grip_strength_right\"],dict_of_female_data[4][\"grip_strength_right\"])\n",
    "\n",
    "print(p_values_pergroup_fe)\n",
    "\n",
    "#, p_adjust = 'holm')\n",
    "#p_values_pergroup_fe\n"
   ]
  },
  {
   "cell_type": "markdown",
   "id": "02435f55",
   "metadata": {},
   "source": [
    "## CHISQUARE TEST\n",
    "Chi-square test of independence: \n",
    "- Does the medical condition of people, blood pressure, have agnia, healthy, other disease etc depend on the level of maual work reported for job?"
   ]
  },
  {
   "cell_type": "code",
   "execution_count": 17,
   "id": "f4fc621e",
   "metadata": {},
   "outputs": [],
   "source": [
    "from itertools import combinations\n",
    "from statsmodels.sandbox.stats.multicomp import multipletests\n",
    "\n",
    "#Adopted from https://neuhofmo.github.io/chi-square-and-post-hoc-in-python/\n",
    "\n",
    "def get_asterisks_for_pval(p_val):\n",
    "\n",
    "    \"\"\"Receives the p-value and returns asterisks string.\"\"\"\n",
    "    if p_val > 0.05:\n",
    "        p_text = \"ns\"  # above threshold => not significant\n",
    "    elif p_val < 1e-4:  \n",
    "        p_text = '****'\n",
    "    elif p_val < 1e-3:\n",
    "        p_text = '***'\n",
    "    elif p_val < 1e-2:\n",
    "        p_text = '**'\n",
    "    else:\n",
    "        p_text = '*'\n",
    "    \n",
    "    return p_text\n",
    "\n",
    "def chisq_and_posthoc_corrected(df):\n",
    "    listoflist=[]\n",
    "    \"\"\"Receives a dataframe and performs chi2 test and then post hoc.\n",
    "    Prints the p-values and corrected p-values (after FDR correction)\"\"\"\n",
    "    # start by running chi2 test on the matrix\n",
    "    chi2, p, dof, ex = chi2_contingency(df, correction=True)\n",
    "    print(f\"Chi2 result of the contingency table: {chi2}, p-value: {p}\")\n",
    "    \n",
    "    # post-hoc\n",
    "    all_combinations = list(combinations(df.index, 2))  # gathering all combinations for post-hoc chi2\n",
    "    p_vals = []\n",
    "    print(\"Significance results:\")\n",
    "    for comb in all_combinations:\n",
    "        new_df = df[(df.index == comb[0]) | (df.index == comb[1])]\n",
    "        chi2, p, dof, ex = chi2_contingency(new_df, correction=True)\n",
    "        p_vals.append(p)\n",
    "        # print(f\"For {comb}: {p}\")  # uncorrected\n",
    "\n",
    "    # checking significance\n",
    "    # correction for multiple testing\n",
    "    reject_list, corrected_p_vals = multipletests(p_vals, method='fdr_bh')[:2]\n",
    "    for p_val, corr_p_val, reject, comb in zip(p_vals, corrected_p_vals, reject_list, all_combinations):\n",
    "        print(f\"{comb}: p_value: {p_val:5f}; corrected: {corr_p_val:5f} ({get_asterisks_for_pval(p_val)}) reject: {reject}\")\n",
    "        listoflist.append([ comb, p_val,corr_p_val, reject])\n",
    "    df = pd.DataFrame(listoflist, columns = [\"comparision\" , \"p_value\", \"corrected_p_value\", \"reject\"])   \n",
    "    return(df)\n",
    "\n",
    "        \n"
   ]
  },
  {
   "cell_type": "code",
   "execution_count": 18,
   "id": "1a77c114",
   "metadata": {},
   "outputs": [
    {
     "data": {
      "text/html": [
       "<div>\n",
       "<style scoped>\n",
       "    .dataframe tbody tr th:only-of-type {\n",
       "        vertical-align: middle;\n",
       "    }\n",
       "\n",
       "    .dataframe tbody tr th {\n",
       "        vertical-align: top;\n",
       "    }\n",
       "\n",
       "    .dataframe thead th {\n",
       "        text-align: right;\n",
       "    }\n",
       "</style>\n",
       "<table border=\"1\" class=\"dataframe\">\n",
       "  <thead>\n",
       "    <tr style=\"text-align: right;\">\n",
       "      <th>vascular_problem_category</th>\n",
       "      <th>Angina</th>\n",
       "      <th>Heart attack</th>\n",
       "      <th>High blood pressure</th>\n",
       "      <th>None of the above</th>\n",
       "      <th>Stroke</th>\n",
       "    </tr>\n",
       "    <tr>\n",
       "      <th>job_category</th>\n",
       "      <th></th>\n",
       "      <th></th>\n",
       "      <th></th>\n",
       "      <th></th>\n",
       "      <th></th>\n",
       "    </tr>\n",
       "  </thead>\n",
       "  <tbody>\n",
       "    <tr>\n",
       "      <th>Always</th>\n",
       "      <td>214</td>\n",
       "      <td>272</td>\n",
       "      <td>3382</td>\n",
       "      <td>12421</td>\n",
       "      <td>110</td>\n",
       "    </tr>\n",
       "    <tr>\n",
       "      <th>Never/rarely</th>\n",
       "      <td>1496</td>\n",
       "      <td>1754</td>\n",
       "      <td>30924</td>\n",
       "      <td>127449</td>\n",
       "      <td>980</td>\n",
       "    </tr>\n",
       "    <tr>\n",
       "      <th>Sometimes</th>\n",
       "      <td>685</td>\n",
       "      <td>791</td>\n",
       "      <td>10991</td>\n",
       "      <td>40164</td>\n",
       "      <td>415</td>\n",
       "    </tr>\n",
       "    <tr>\n",
       "      <th>Usually</th>\n",
       "      <td>232</td>\n",
       "      <td>267</td>\n",
       "      <td>3451</td>\n",
       "      <td>12920</td>\n",
       "      <td>114</td>\n",
       "    </tr>\n",
       "  </tbody>\n",
       "</table>\n",
       "</div>"
      ],
      "text/plain": [
       "vascular_problem_category  Angina  Heart attack  High blood pressure  \\\n",
       "job_category                                                           \n",
       "Always                        214           272                 3382   \n",
       "Never/rarely                 1496          1754                30924   \n",
       "Sometimes                     685           791                10991   \n",
       "Usually                       232           267                 3451   \n",
       "\n",
       "vascular_problem_category  None of the above  Stroke  \n",
       "job_category                                          \n",
       "Always                                 12421     110  \n",
       "Never/rarely                          127449     980  \n",
       "Sometimes                              40164     415  \n",
       "Usually                                12920     114  "
      ]
     },
     "execution_count": 18,
     "metadata": {},
     "output_type": "execute_result"
    },
    {
     "name": "stdout",
     "output_type": "stream",
     "text": [
      "Chi2 result of the contingency table: 325.42574760484206, p-value: 2.118818236614393e-62\n",
      "Significance results:\n",
      "('Always', 'Never/rarely'): p_value: 0.000000; corrected: 0.000000 (****) reject: True\n",
      "('Always', 'Sometimes'): p_value: 0.350514; corrected: 0.421902 (ns) reject: False\n",
      "('Always', 'Usually'): p_value: 0.891739; corrected: 0.891739 (ns) reject: False\n",
      "('Never/rarely', 'Sometimes'): p_value: 0.000000; corrected: 0.000000 (****) reject: True\n",
      "('Never/rarely', 'Usually'): p_value: 0.000000; corrected: 0.000000 (****) reject: True\n",
      "('Sometimes', 'Usually'): p_value: 0.351585; corrected: 0.421902 (ns) reject: False\n"
     ]
    },
    {
     "data": {
      "text/html": [
       "<div>\n",
       "<style scoped>\n",
       "    .dataframe tbody tr th:only-of-type {\n",
       "        vertical-align: middle;\n",
       "    }\n",
       "\n",
       "    .dataframe tbody tr th {\n",
       "        vertical-align: top;\n",
       "    }\n",
       "\n",
       "    .dataframe thead th {\n",
       "        text-align: right;\n",
       "    }\n",
       "</style>\n",
       "<table border=\"1\" class=\"dataframe\">\n",
       "  <thead>\n",
       "    <tr style=\"text-align: right;\">\n",
       "      <th>vascular_problem_category</th>\n",
       "      <th>-7.0</th>\n",
       "      <th>1.0</th>\n",
       "      <th>2.0</th>\n",
       "      <th>3.0</th>\n",
       "      <th>4.0</th>\n",
       "    </tr>\n",
       "    <tr>\n",
       "      <th>job_category</th>\n",
       "      <th></th>\n",
       "      <th></th>\n",
       "      <th></th>\n",
       "      <th></th>\n",
       "      <th></th>\n",
       "    </tr>\n",
       "  </thead>\n",
       "  <tbody>\n",
       "    <tr>\n",
       "      <th>1.0</th>\n",
       "      <td>52078</td>\n",
       "      <td>1458</td>\n",
       "      <td>1035</td>\n",
       "      <td>540</td>\n",
       "      <td>15424</td>\n",
       "    </tr>\n",
       "    <tr>\n",
       "      <th>2.0</th>\n",
       "      <td>18987</td>\n",
       "      <td>674</td>\n",
       "      <td>487</td>\n",
       "      <td>251</td>\n",
       "      <td>6218</td>\n",
       "    </tr>\n",
       "    <tr>\n",
       "      <th>3.0</th>\n",
       "      <td>7619</td>\n",
       "      <td>239</td>\n",
       "      <td>177</td>\n",
       "      <td>79</td>\n",
       "      <td>2308</td>\n",
       "    </tr>\n",
       "    <tr>\n",
       "      <th>4.0</th>\n",
       "      <td>7415</td>\n",
       "      <td>225</td>\n",
       "      <td>161</td>\n",
       "      <td>77</td>\n",
       "      <td>2214</td>\n",
       "    </tr>\n",
       "  </tbody>\n",
       "</table>\n",
       "</div>"
      ],
      "text/plain": [
       "vascular_problem_category   -7.0   1.0   2.0   3.0    4.0\n",
       "job_category                                             \n",
       "1.0                        52078  1458  1035   540  15424\n",
       "2.0                        18987   674   487   251   6218\n",
       "3.0                         7619   239   177    79   2308\n",
       "4.0                         7415   225   161    77   2214"
      ]
     },
     "execution_count": 18,
     "metadata": {},
     "output_type": "execute_result"
    },
    {
     "name": "stdout",
     "output_type": "stream",
     "text": [
      "Chi2 result of the contingency table: 81.1936751218586, p-value: 2.4421206549001986e-12\n",
      "Significance results:\n",
      "(1.0, 2.0): p_value: 0.000000; corrected: 0.000000 (****) reject: True\n",
      "(1.0, 3.0): p_value: 0.169133; corrected: 0.253699 (ns) reject: False\n",
      "(1.0, 4.0): p_value: 0.687017; corrected: 0.824421 (ns) reject: False\n",
      "(2.0, 3.0): p_value: 0.009438; corrected: 0.018876 (**) reject: True\n",
      "(2.0, 4.0): p_value: 0.000869; corrected: 0.002608 (***) reject: True\n",
      "(3.0, 4.0): p_value: 0.960910; corrected: 0.960910 (ns) reject: False\n"
     ]
    },
    {
     "data": {
      "text/html": [
       "<div>\n",
       "<style scoped>\n",
       "    .dataframe tbody tr th:only-of-type {\n",
       "        vertical-align: middle;\n",
       "    }\n",
       "\n",
       "    .dataframe tbody tr th {\n",
       "        vertical-align: top;\n",
       "    }\n",
       "\n",
       "    .dataframe thead th {\n",
       "        text-align: right;\n",
       "    }\n",
       "</style>\n",
       "<table border=\"1\" class=\"dataframe\">\n",
       "  <thead>\n",
       "    <tr style=\"text-align: right;\">\n",
       "      <th>vascular_problem_category</th>\n",
       "      <th>-7.0</th>\n",
       "      <th>1.0</th>\n",
       "      <th>2.0</th>\n",
       "      <th>3.0</th>\n",
       "      <th>4.0</th>\n",
       "    </tr>\n",
       "    <tr>\n",
       "      <th>job_category</th>\n",
       "      <th></th>\n",
       "      <th></th>\n",
       "      <th></th>\n",
       "      <th></th>\n",
       "      <th></th>\n",
       "    </tr>\n",
       "  </thead>\n",
       "  <tbody>\n",
       "    <tr>\n",
       "      <th>1.0</th>\n",
       "      <td>72215</td>\n",
       "      <td>267</td>\n",
       "      <td>436</td>\n",
       "      <td>417</td>\n",
       "      <td>14668</td>\n",
       "    </tr>\n",
       "    <tr>\n",
       "      <th>2.0</th>\n",
       "      <td>20202</td>\n",
       "      <td>98</td>\n",
       "      <td>181</td>\n",
       "      <td>153</td>\n",
       "      <td>4494</td>\n",
       "    </tr>\n",
       "    <tr>\n",
       "      <th>3.0</th>\n",
       "      <td>5003</td>\n",
       "      <td>21</td>\n",
       "      <td>49</td>\n",
       "      <td>32</td>\n",
       "      <td>1083</td>\n",
       "    </tr>\n",
       "    <tr>\n",
       "      <th>4.0</th>\n",
       "      <td>4719</td>\n",
       "      <td>39</td>\n",
       "      <td>46</td>\n",
       "      <td>32</td>\n",
       "      <td>1074</td>\n",
       "    </tr>\n",
       "  </tbody>\n",
       "</table>\n",
       "</div>"
      ],
      "text/plain": [
       "vascular_problem_category   -7.0   1.0   2.0   3.0    4.0\n",
       "job_category                                             \n",
       "1.0                        72215   267   436   417  14668\n",
       "2.0                        20202    98   181   153   4494\n",
       "3.0                         5003    21    49    32   1083\n",
       "4.0                         4719    39    46    32   1074"
      ]
     },
     "execution_count": 18,
     "metadata": {},
     "output_type": "execute_result"
    },
    {
     "name": "stdout",
     "output_type": "stream",
     "text": [
      "Chi2 result of the contingency table: 91.08690500765972, p-value: 3.0404072808850035e-14\n",
      "Significance results:\n",
      "(1.0, 2.0): p_value: 0.000000; corrected: 0.000000 (****) reject: True\n",
      "(1.0, 3.0): p_value: 0.008053; corrected: 0.016105 (**) reject: True\n",
      "(1.0, 4.0): p_value: 0.000000; corrected: 0.000000 (****) reject: True\n",
      "(2.0, 3.0): p_value: 0.749698; corrected: 0.749698 (ns) reject: False\n",
      "(2.0, 4.0): p_value: 0.064111; corrected: 0.096166 (ns) reject: False\n",
      "(3.0, 4.0): p_value: 0.114191; corrected: 0.137029 (ns) reject: False\n"
     ]
    }
   ],
   "source": [
    "#Overall\n",
    "from scipy.stats import chi2_contingency\n",
    "crosstablejobcat_vasular_disease = pd.crosstab(metadata_clean[\"job_category\"],metadata_clean[\"vascular_problem_category\"])\n",
    "crosstablejobcat_vasular_disease\n",
    "overall_res=chisq_and_posthoc_corrected(crosstablejobcat_vasular_disease)\n",
    "\n",
    "#Male\n",
    "crosstablejobcat_vasular_disease_male = pd.crosstab(male_data[\"job_category\"],male_data[\"vascular_problem_category\"])\n",
    "crosstablejobcat_vasular_disease_male\n",
    "male_res=chisq_and_posthoc_corrected(crosstablejobcat_vasular_disease_male)\n",
    "\n",
    "#Female\n",
    "crosstablejobcat_vasular_disease_female = pd.crosstab(female_data[\"job_category\"],female_data[\"vascular_problem_category\"])\n",
    "crosstablejobcat_vasular_disease_female\n",
    "female_res =chisq_and_posthoc_corrected(crosstablejobcat_vasular_disease_female)\n"
   ]
  },
  {
   "cell_type": "code",
   "execution_count": 19,
   "id": "0b459512",
   "metadata": {},
   "outputs": [
    {
     "data": {
      "text/html": [
       "<div>\n",
       "<style scoped>\n",
       "    .dataframe tbody tr th:only-of-type {\n",
       "        vertical-align: middle;\n",
       "    }\n",
       "\n",
       "    .dataframe tbody tr th {\n",
       "        vertical-align: top;\n",
       "    }\n",
       "\n",
       "    .dataframe thead th {\n",
       "        text-align: right;\n",
       "    }\n",
       "</style>\n",
       "<table border=\"1\" class=\"dataframe\">\n",
       "  <thead>\n",
       "    <tr style=\"text-align: right;\">\n",
       "      <th></th>\n",
       "      <th>comparision</th>\n",
       "      <th>p_value</th>\n",
       "      <th>corrected_p_value</th>\n",
       "      <th>reject</th>\n",
       "    </tr>\n",
       "  </thead>\n",
       "  <tbody>\n",
       "    <tr>\n",
       "      <th>0</th>\n",
       "      <td>(Always, Never/rarely)</td>\n",
       "      <td>4.075047e-21</td>\n",
       "      <td>1.222514e-20</td>\n",
       "      <td>True</td>\n",
       "    </tr>\n",
       "    <tr>\n",
       "      <th>1</th>\n",
       "      <td>(Always, Sometimes)</td>\n",
       "      <td>3.505135e-01</td>\n",
       "      <td>4.219024e-01</td>\n",
       "      <td>False</td>\n",
       "    </tr>\n",
       "    <tr>\n",
       "      <th>2</th>\n",
       "      <td>(Always, Usually)</td>\n",
       "      <td>8.917391e-01</td>\n",
       "      <td>8.917391e-01</td>\n",
       "      <td>False</td>\n",
       "    </tr>\n",
       "    <tr>\n",
       "      <th>3</th>\n",
       "      <td>(Never/rarely, Sometimes)</td>\n",
       "      <td>3.110238e-48</td>\n",
       "      <td>1.866143e-47</td>\n",
       "      <td>True</td>\n",
       "    </tr>\n",
       "    <tr>\n",
       "      <th>4</th>\n",
       "      <td>(Never/rarely, Usually)</td>\n",
       "      <td>1.126957e-18</td>\n",
       "      <td>2.253914e-18</td>\n",
       "      <td>True</td>\n",
       "    </tr>\n",
       "    <tr>\n",
       "      <th>5</th>\n",
       "      <td>(Sometimes, Usually)</td>\n",
       "      <td>3.515854e-01</td>\n",
       "      <td>4.219024e-01</td>\n",
       "      <td>False</td>\n",
       "    </tr>\n",
       "  </tbody>\n",
       "</table>\n",
       "</div>"
      ],
      "text/plain": [
       "                 comparision       p_value  corrected_p_value  reject\n",
       "0     (Always, Never/rarely)  4.075047e-21       1.222514e-20    True\n",
       "1        (Always, Sometimes)  3.505135e-01       4.219024e-01   False\n",
       "2          (Always, Usually)  8.917391e-01       8.917391e-01   False\n",
       "3  (Never/rarely, Sometimes)  3.110238e-48       1.866143e-47    True\n",
       "4    (Never/rarely, Usually)  1.126957e-18       2.253914e-18    True\n",
       "5       (Sometimes, Usually)  3.515854e-01       4.219024e-01   False"
      ]
     },
     "execution_count": 19,
     "metadata": {},
     "output_type": "execute_result"
    },
    {
     "data": {
      "text/html": [
       "<div>\n",
       "<style scoped>\n",
       "    .dataframe tbody tr th:only-of-type {\n",
       "        vertical-align: middle;\n",
       "    }\n",
       "\n",
       "    .dataframe tbody tr th {\n",
       "        vertical-align: top;\n",
       "    }\n",
       "\n",
       "    .dataframe thead th {\n",
       "        text-align: right;\n",
       "    }\n",
       "</style>\n",
       "<table border=\"1\" class=\"dataframe\">\n",
       "  <thead>\n",
       "    <tr style=\"text-align: right;\">\n",
       "      <th></th>\n",
       "      <th>comparision</th>\n",
       "      <th>p_value</th>\n",
       "      <th>corrected_p_value</th>\n",
       "      <th>reject</th>\n",
       "    </tr>\n",
       "  </thead>\n",
       "  <tbody>\n",
       "    <tr>\n",
       "      <th>0</th>\n",
       "      <td>(1.0, 2.0)</td>\n",
       "      <td>3.496903e-16</td>\n",
       "      <td>2.098142e-15</td>\n",
       "      <td>True</td>\n",
       "    </tr>\n",
       "    <tr>\n",
       "      <th>1</th>\n",
       "      <td>(1.0, 3.0)</td>\n",
       "      <td>1.691328e-01</td>\n",
       "      <td>2.536991e-01</td>\n",
       "      <td>False</td>\n",
       "    </tr>\n",
       "    <tr>\n",
       "      <th>2</th>\n",
       "      <td>(1.0, 4.0)</td>\n",
       "      <td>6.870171e-01</td>\n",
       "      <td>8.244206e-01</td>\n",
       "      <td>False</td>\n",
       "    </tr>\n",
       "    <tr>\n",
       "      <th>3</th>\n",
       "      <td>(2.0, 3.0)</td>\n",
       "      <td>9.437763e-03</td>\n",
       "      <td>1.887553e-02</td>\n",
       "      <td>True</td>\n",
       "    </tr>\n",
       "    <tr>\n",
       "      <th>4</th>\n",
       "      <td>(2.0, 4.0)</td>\n",
       "      <td>8.692165e-04</td>\n",
       "      <td>2.607650e-03</td>\n",
       "      <td>True</td>\n",
       "    </tr>\n",
       "    <tr>\n",
       "      <th>5</th>\n",
       "      <td>(3.0, 4.0)</td>\n",
       "      <td>9.609098e-01</td>\n",
       "      <td>9.609098e-01</td>\n",
       "      <td>False</td>\n",
       "    </tr>\n",
       "  </tbody>\n",
       "</table>\n",
       "</div>"
      ],
      "text/plain": [
       "  comparision       p_value  corrected_p_value  reject\n",
       "0  (1.0, 2.0)  3.496903e-16       2.098142e-15    True\n",
       "1  (1.0, 3.0)  1.691328e-01       2.536991e-01   False\n",
       "2  (1.0, 4.0)  6.870171e-01       8.244206e-01   False\n",
       "3  (2.0, 3.0)  9.437763e-03       1.887553e-02    True\n",
       "4  (2.0, 4.0)  8.692165e-04       2.607650e-03    True\n",
       "5  (3.0, 4.0)  9.609098e-01       9.609098e-01   False"
      ]
     },
     "execution_count": 19,
     "metadata": {},
     "output_type": "execute_result"
    },
    {
     "data": {
      "text/html": [
       "<div>\n",
       "<style scoped>\n",
       "    .dataframe tbody tr th:only-of-type {\n",
       "        vertical-align: middle;\n",
       "    }\n",
       "\n",
       "    .dataframe tbody tr th {\n",
       "        vertical-align: top;\n",
       "    }\n",
       "\n",
       "    .dataframe thead th {\n",
       "        text-align: right;\n",
       "    }\n",
       "</style>\n",
       "<table border=\"1\" class=\"dataframe\">\n",
       "  <thead>\n",
       "    <tr style=\"text-align: right;\">\n",
       "      <th></th>\n",
       "      <th>comparision</th>\n",
       "      <th>p_value</th>\n",
       "      <th>corrected_p_value</th>\n",
       "      <th>reject</th>\n",
       "    </tr>\n",
       "  </thead>\n",
       "  <tbody>\n",
       "    <tr>\n",
       "      <th>0</th>\n",
       "      <td>(1.0, 2.0)</td>\n",
       "      <td>3.496903e-16</td>\n",
       "      <td>2.098142e-15</td>\n",
       "      <td>True</td>\n",
       "    </tr>\n",
       "    <tr>\n",
       "      <th>1</th>\n",
       "      <td>(1.0, 3.0)</td>\n",
       "      <td>1.691328e-01</td>\n",
       "      <td>2.536991e-01</td>\n",
       "      <td>False</td>\n",
       "    </tr>\n",
       "    <tr>\n",
       "      <th>2</th>\n",
       "      <td>(1.0, 4.0)</td>\n",
       "      <td>6.870171e-01</td>\n",
       "      <td>8.244206e-01</td>\n",
       "      <td>False</td>\n",
       "    </tr>\n",
       "    <tr>\n",
       "      <th>3</th>\n",
       "      <td>(2.0, 3.0)</td>\n",
       "      <td>9.437763e-03</td>\n",
       "      <td>1.887553e-02</td>\n",
       "      <td>True</td>\n",
       "    </tr>\n",
       "    <tr>\n",
       "      <th>4</th>\n",
       "      <td>(2.0, 4.0)</td>\n",
       "      <td>8.692165e-04</td>\n",
       "      <td>2.607650e-03</td>\n",
       "      <td>True</td>\n",
       "    </tr>\n",
       "    <tr>\n",
       "      <th>5</th>\n",
       "      <td>(3.0, 4.0)</td>\n",
       "      <td>9.609098e-01</td>\n",
       "      <td>9.609098e-01</td>\n",
       "      <td>False</td>\n",
       "    </tr>\n",
       "  </tbody>\n",
       "</table>\n",
       "</div>"
      ],
      "text/plain": [
       "  comparision       p_value  corrected_p_value  reject\n",
       "0  (1.0, 2.0)  3.496903e-16       2.098142e-15    True\n",
       "1  (1.0, 3.0)  1.691328e-01       2.536991e-01   False\n",
       "2  (1.0, 4.0)  6.870171e-01       8.244206e-01   False\n",
       "3  (2.0, 3.0)  9.437763e-03       1.887553e-02    True\n",
       "4  (2.0, 4.0)  8.692165e-04       2.607650e-03    True\n",
       "5  (3.0, 4.0)  9.609098e-01       9.609098e-01   False"
      ]
     },
     "execution_count": 19,
     "metadata": {},
     "output_type": "execute_result"
    }
   ],
   "source": [
    "overall_res\n",
    "male_res\n",
    "male_res"
   ]
  },
  {
   "cell_type": "markdown",
   "id": "c1314ee0",
   "metadata": {},
   "source": [
    "## PAIRED T TEST TO SEE DIFFERENCE IN LEFT HAND VS RIGHT HAND"
   ]
  },
  {
   "cell_type": "code",
   "execution_count": 20,
   "id": "d0f16ba9",
   "metadata": {},
   "outputs": [
    {
     "data": {
      "text/plain": [
       "False    248696\n",
       "True        337\n",
       "Name: grip_strength_left, dtype: int64"
      ]
     },
     "execution_count": 20,
     "metadata": {},
     "output_type": "execute_result"
    }
   ],
   "source": [
    "(metadata_clean[\"grip_strength_left\"]).isna().value_counts()"
   ]
  },
  {
   "cell_type": "code",
   "execution_count": 21,
   "id": "7ceed760",
   "metadata": {},
   "outputs": [
    {
     "data": {
      "text/plain": [
       "(249033, 7)"
      ]
     },
     "execution_count": 21,
     "metadata": {},
     "output_type": "execute_result"
    },
    {
     "data": {
      "text/plain": [
       "(248696, 7)"
      ]
     },
     "execution_count": 21,
     "metadata": {},
     "output_type": "execute_result"
    }
   ],
   "source": [
    "metadata_clean2 = metadata_clean[metadata_clean[\"grip_strength_left\"].notna()]\n",
    "metadata_clean.shape\n",
    "metadata_clean2.shape"
   ]
  },
  {
   "cell_type": "code",
   "execution_count": 23,
   "id": "8aa85b2c",
   "metadata": {},
   "outputs": [
    {
     "data": {
      "text/plain": [
       "56078"
      ]
     },
     "execution_count": 23,
     "metadata": {},
     "output_type": "execute_result"
    },
    {
     "data": {
      "text/plain": [
       "LeveneResult(statistic=6.66182281848747, pvalue=0.009850294509621157)"
      ]
     },
     "execution_count": 23,
     "metadata": {},
     "output_type": "execute_result"
    },
    {
     "data": {
      "text/plain": [
       "1.0115713283008188"
      ]
     },
     "execution_count": 23,
     "metadata": {},
     "output_type": "execute_result"
    },
    {
     "data": {
      "text/plain": [
       "TtestResult(statistic=-217.06697329383843, pvalue=0.0, df=248695)"
      ]
     },
     "execution_count": 23,
     "metadata": {},
     "output_type": "execute_result"
    }
   ],
   "source": [
    "import scipy.stats as scpystats\n",
    "55985 + 93\n",
    "#NULL:  variance of grip strength in left and right hand is same..\n",
    "    \n",
    "levene(metadata_clean2[\"grip_strength_left\"],metadata_clean2[\"grip_strength_right\"]) #cant reject the null hypothesis\n",
    "np.var(metadata_clean2[\"grip_strength_left\"])/np.var(metadata_clean2[\"grip_strength_right\"])\n",
    "scpystats.ttest_rel(metadata_clean2[\"grip_strength_left\"],metadata_clean2[\"grip_strength_right\"], alternative='two-sided') "
   ]
  },
  {
   "cell_type": "code",
   "execution_count": 24,
   "id": "fa99a279",
   "metadata": {},
   "outputs": [
    {
     "data": {
      "text/plain": [
       "TtestResult(statistic=-217.06697329383843, pvalue=0.0, df=248695)"
      ]
     },
     "execution_count": 24,
     "metadata": {},
     "output_type": "execute_result"
    }
   ],
   "source": [
    "scpystats.ttest_rel(metadata_clean2[\"grip_strength_left\"],metadata_clean2[\"grip_strength_right\"], alternative='less') "
   ]
  },
  {
   "cell_type": "markdown",
   "id": "425aa06d",
   "metadata": {},
   "source": [
    "## REGRESSION HAND GRIP STRENGTH AND DISEASE CATEGORY"
   ]
  },
  {
   "cell_type": "code",
   "execution_count": 26,
   "id": "690c39db",
   "metadata": {},
   "outputs": [
    {
     "data": {
      "text/plain": [
       "'/Users/edhungel/Documents/Research/UNCC/ukbiobank/eliza/raw_data'"
      ]
     },
     "execution_count": 26,
     "metadata": {},
     "output_type": "execute_result"
    }
   ],
   "source": [
    "import os\n",
    "os.getcwd()"
   ]
  },
  {
   "cell_type": "code",
   "execution_count": 40,
   "id": "355e3c8a",
   "metadata": {},
   "outputs": [
    {
     "name": "stdout",
     "output_type": "stream",
     "text": [
      "this is printing and plotting\n"
     ]
    },
    {
     "data": {
      "image/png": "[encoded data removed]",
      "text/plain": [
       "<Figure size 640x480 with 2 Axes>"
      ]
     },
     "metadata": {},
     "output_type": "display_data"
    }
   ],
   "source": [
    "def getsummarystats( single_metabolite, tp_value = None, lfc = None) :\n",
    "\n",
    "        mu1 = single_metabolite.mean()\n",
    "        median1 = np.nanmedian(single_metabolite)\n",
    "        sigma1 = single_metabolite.std()\n",
    "        minval1 = min(single_metabolite)\n",
    "        maxval1 = max(single_metabolite)\n",
    "        count1 = len(single_metabolite)\n",
    "        missing1 = sum(single_metabolite.isnull())\n",
    "        if tp_value is None:\n",
    "            textstr1 = '\\n'.join((\n",
    "                    r'count=' + \"\" +str(count1),\n",
    "                    r'$\\min=%.2f$' % (minval1, ),\n",
    "                    r'$\\mu=%.2f$' % (mu1, ),\n",
    "                    r'$\\mathrm{median}=%.2f$' % (median1, ),\n",
    "                    r'$\\sigma=%.2f$' % (sigma1, ),\n",
    "                    r'$\\max=%.2f$' % (maxval1, ),\n",
    "                    r'missing=' + \"\" +str(missing1, )))\n",
    "        else:\n",
    "            textstr1 = '\\n'.join((\n",
    "                    r'count=' + \"\" +str(count1),\n",
    "                    r'$\\min=%.2f$' % (minval1, ),\n",
    "                    r'$\\mu=%.2f$' % (mu1, ),\n",
    "                    r'$\\mathrm{median}=%.2f$' % (median1, ),\n",
    "                    r'$\\sigma=%.2f$' % (sigma1, ),\n",
    "                    r'$\\max=%.2f$' % (maxval1, ),\n",
    "                    r'missing=' + \"\" +str(missing1, ),\n",
    "                    r'pvalue=' + str(\"{:.3e}\".format(tp_value)),\n",
    "                    r'$\\logfoldchange=%.4f$' % (lfc, ) ) )\n",
    "        return textstr1\n",
    "\n",
    "\n",
    "\n",
    "def draw_histogram(  data1, data2, textstr1, textstr2, bins,metabolite_nametotitle):\n",
    "\n",
    "        graph, (plot1, plot2) = plt.subplots(2, 1)\n",
    "        props = dict(boxstyle='round', facecolor='wheat', alpha=0.5)\n",
    "\n",
    "        graph.suptitle( metabolite_nametotitle )\n",
    "\n",
    "        plot1.hist(data1, bins = bins, color= 'skyblue', edgecolor='black')\n",
    "        plot1.tick_params(axis='x', which='both', bottom=False, top=False,labelbottom=False)\n",
    "        plot2.hist(data2, bins=bins, color='darkblue', edgecolor='black')\n",
    "        plot2.invert_yaxis()\n",
    "        graph.legend([ \"male\", \"female\"],  loc='upper right')\n",
    "        graph.tight_layout()\n",
    "        plt.xlabel('Values')\n",
    "        plt.ylabel('Frequency')\n",
    "        plt.subplots_adjust(hspace=0)\n",
    "        print(\"this is printing and plotting\")\n",
    "        plot1.text(-0.5, 0.95, textstr1, transform=plot1.transAxes, fontsize=14,verticalalignment='top', bbox=props)\n",
    "        plot2.text(-0.5, 0.85, textstr2, transform=plot2.transAxes, fontsize=14,verticalalignment='top', bbox=props)\n",
    "import matplotlib.pyplot as plt\n",
    "import numpy as np\n",
    "metadata_sub = metadata[metadata[\"Ethnicity\"]==1001.0] ##British\n",
    "male_data = metadata[\"grip_strength_right\"][metadata[\"genetic_sex\"]== 1.0]\n",
    "female_data = metadata[\"grip_strength_right\"][metadata[\"genetic_sex\"]== 0.0]\n",
    "textstr1 = getsummarystats(male_data) #self.ttest_p_value_all[indexval] ,self.alllogfoldchange[indexval]  )\n",
    "textstr2 = getsummarystats( female_data )#, ttest_pvalue)\n",
    "\n",
    "bins=np.arange(min(  min(male_data) ,min( female_data ) ),   max(  max(male_data) ,max( female_data ) ) + 0.5, 0.5)\n",
    "draw_histogram(male_data , female_data , textstr1, textstr2, bins, \"Male_vs_female\")\n"
   ]
  },
  {
   "cell_type": "code",
   "execution_count": null,
   "id": "92370230",
   "metadata": {},
   "outputs": [],
   "source": []
  }
 ],
 "metadata": {
  "kernelspec": {
   "display_name": "Python 3 (ipykernel)",
   "language": "python",
   "name": "python3"
  },
  "language_info": {
   "codemirror_mode": {
    "name": "ipython",
    "version": 3
   },
   "file_extension": ".py",
   "mimetype": "text/x-python",
   "name": "python",
   "nbconvert_exporter": "python",
   "pygments_lexer": "ipython3",
   "version": "3.9.13"
  }
 },
 "nbformat": 4,
 "nbformat_minor": 5
}
